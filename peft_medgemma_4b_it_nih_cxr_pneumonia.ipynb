{
 "cells": [
  {
   "cell_type": "code",
   "execution_count": 1,
   "id": "81e6df5e",
   "metadata": {},
   "outputs": [
    {
     "name": "stdout",
     "output_type": "stream",
     "text": [
      "/opt/homebrew/Caskroom/miniforge/base/envs/torchLM/bin/python\n",
      "/opt/homebrew/Caskroom/miniforge/base/envs/torchLM\n"
     ]
    }
   ],
   "source": [
    "import sys\n",
    "print(sys.executable)\n",
    "print(sys.prefix)"
   ]
  },
  {
   "cell_type": "code",
   "execution_count": 2,
   "id": "8b0b3c90",
   "metadata": {},
   "outputs": [
    {
     "name": "stderr",
     "output_type": "stream",
     "text": [
      "/opt/homebrew/Caskroom/miniforge/base/envs/torchLM/lib/python3.11/site-packages/tqdm/auto.py:21: TqdmWarning: IProgress not found. Please update jupyter and ipywidgets. See https://ipywidgets.readthedocs.io/en/stable/user_install.html\n",
      "  from .autonotebook import tqdm as notebook_tqdm\n",
      "Note: Environment variable`HF_TOKEN` is set and is the current active token independently from the token you've just configured.\n"
     ]
    }
   ],
   "source": [
    "import os\n",
    "from datasets import load_dataset\n",
    "\n",
    "\n",
    "from src.config import config_medgemma_4b_it_nih_cxr\n",
    "from src.utils.fetch_data import load_data_chest_xray_pneumonia\n"
   ]
  },
  {
   "cell_type": "markdown",
   "id": "a272a9dc",
   "metadata": {},
   "source": [
    "## Load the NIH Chest X-Ray Pneumonia Data"
   ]
  },
  {
   "cell_type": "code",
   "execution_count": 3,
   "id": "4aa2d2cd",
   "metadata": {},
   "outputs": [
    {
     "name": "stdout",
     "output_type": "stream",
     "text": [
      "DatasetDict({\n",
      "    train: Dataset({\n",
      "        features: ['image', 'label'],\n",
      "        num_rows: 5216\n",
      "    })\n",
      "    validation: Dataset({\n",
      "        features: ['image', 'label'],\n",
      "        num_rows: 16\n",
      "    })\n",
      "    test: Dataset({\n",
      "        features: ['image', 'label'],\n",
      "        num_rows: 624\n",
      "    })\n",
      "})\n"
     ]
    }
   ],
   "source": [
    "dataset = load_data_chest_xray_pneumonia()"
   ]
  },
  {
   "cell_type": "markdown",
   "id": "27aa33a6",
   "metadata": {},
   "source": [
    "## Fine tune medgemma-4b-it on the NIH Chest X-Ray Pneumonia Data\n"
   ]
  },
  {
   "cell_type": "code",
   "execution_count": null,
   "id": "d78b9220",
   "metadata": {},
   "outputs": [],
   "source": [
    "from src.utils.data_utils import format_data_medgemma_nih_chest_x_ray\n",
    "from src.utils.model_utils import load_model_and_processor\n",
    "from src.config import config_medgemma_4b_it_nih_cxr\n",
    "from src.fine_tune_medgemma_nih_pneumonia_chest_x_ray import fine_tune_medgemma_nih_pneumonia_chest_x_ray\n",
    "\n",
    "# Format the dataset\n",
    "formatted_dataset = dataset.map(format_data_medgemma_nih_chest_x_ray)\n",
    "\n",
    "# Load base model and processor\n",
    "model_id = \"medgemma-4b-it\"\n",
    "base_model, processor = load_model_and_processor(\n",
    "    model_id=config_medgemma_4b_it_nih_cxr.base_model_id,\n",
    "    model_directory=config_medgemma_4b_it_nih_cxr.model_folder_base,\n",
    "    model_kwargs=config_medgemma_4b_it_nih_cxr.model_kwargs,\n",
    ")\n",
    "\n",
    "# Fine-tune the model\n",
    "fine_tune_medgemma_nih_pneumonia_chest_x_ray(\n",
    "    model=base_model,\n",
    "    processor=processor,\n",
    "    data=formatted_dataset,\n",
    "    base_model_directory=config_medgemma_4b_it_nih_cxr.model_folder_base,\n",
    "    save_directory_adapters=config_medgemma_4b_it_nih_cxr.model_folder_pneumonia_ft_adapter,\n",
    "    save_directory_full_model=config_medgemma_4b_it_nih_cxr.model_folder_pneumonia_ft_full,\n",
    "    model_kwargs=config_medgemma_4b_it_nih_cxr.model_kwargs,\n",
    ")"
   ]
  },
  {
   "cell_type": "code",
   "execution_count": null,
   "id": "cd49b993",
   "metadata": {},
   "outputs": [],
   "source": []
  },
  {
   "cell_type": "markdown",
   "id": "adb406df",
   "metadata": {},
   "source": [
    "## Test the baseline model"
   ]
  },
  {
   "cell_type": "code",
   "execution_count": 22,
   "id": "1a36f307",
   "metadata": {},
   "outputs": [
    {
     "name": "stderr",
     "output_type": "stream",
     "text": [
      "Loading checkpoint shards: 100%|██████████████████████████████████████████████████████████████████████| 2/2 [00:32<00:00, 16.48s/it]\n"
     ]
    },
    {
     "name": "stdout",
     "output_type": "stream",
     "text": [
      "Model and processor loaded from /Users/georgi/dev/meda/models/medgemma-4b-it\n",
      "System Message:You are a medical AI expert analyzing chest X-rays     for pneumonia detection.\n",
      "User Message:Analyze this chest X-ray image for signs of pneumonia     or normal lungs. Do you detect: \n",
      " A: NORMAL\n",
      "B: PNEUMONIA\n",
      "True finding:B: PNEUMONIA\n"
     ]
    }
   ],
   "source": [
    "from src.test_medgemma_49_it_nih_pneumonia_chest_x_ray import test_medgemma_4b_it_nih_pneumonia_chest_x_ray\n",
    "from src.utils.prompt_utils import make_prompt_without_image\n",
    "\n",
    "\n",
    "test_instance_base = test_medgemma_4b_it_nih_pneumonia_chest_x_ray(\n",
    "    model_id=config_medgemma_4b_it_nih_cxr.base_model_id,\n",
    "    model_folder=config_medgemma_4b_it_nih_cxr.model_folder_base,\n",
    "    model_kwargs=config_medgemma_4b_it_nih_cxr.model_kwargs,\n",
    "    max_new_tokens=250\n",
    ")\n",
    "messages = make_prompt_without_image(\n",
    "        system_message=config_medgemma_4b_it_nih_cxr.prompt_template[\"system_message\"],\n",
    "        user_prompt=config_medgemma_4b_it_nih_cxr.prompt_template[\"user_prompt\"])\n",
    "print(f\"System Message:{config_medgemma_4b_it_nih_cxr.prompt_template['system_message']}\")\n",
    "print(f\"User Message:{config_medgemma_4b_it_nih_cxr.prompt_template['user_prompt']}\")\n",
    "print(f\"True finding:{config_medgemma_4b_it_nih_cxr.condition_findings[dataset['test'][-7]['label']]}\")"
   ]
  },
  {
   "cell_type": "code",
   "execution_count": 13,
   "id": "d0b4505b",
   "metadata": {},
   "outputs": [],
   "source": [
    "dataset[\"test\"][-7][\"image\"].show()"
   ]
  },
  {
   "cell_type": "code",
   "execution_count": 14,
   "id": "85682cda",
   "metadata": {},
   "outputs": [
    {
     "name": "stdout",
     "output_type": "stream",
     "text": [
      "Generated Description: \n",
      "Based on the provided chest X-ray image, I would classify it as **A: NORMAL**.\n",
      "\n",
      "Here's why:\n",
      "\n",
      "*   **Lung Fields:** The lung fields appear relatively clear, with no obvious consolidation or infiltrates.\n",
      "*   **Heart Size:** The heart size seems within normal limits.\n",
      "*   **Mediastinum:** The mediastinum (the space between the lungs containing the heart, great vessels, etc.) appears normal.\n",
      "*   **Bones:** The bony structures (ribs, clavicles, etc.) are intact.\n",
      "\n",
      "While this is a preliminary assessment, and a definitive diagnosis requires a trained radiologist's interpretation, the image doesn't show any strong indicators of pneumonia.\n",
      "\n",
      "Baseline assistant message:\n",
      "Based on the provided chest X-ray image, I would classify it as **A: NORMAL**.\n",
      "\n",
      "Here's why:\n",
      "\n",
      "*   **Lung Fields:** The lung fields appear relatively clear, with no obvious consolidation or infiltrates.\n",
      "*   **Heart Size:** The heart size seems within normal limits.\n",
      "*   **Mediastinum:** The mediastinum (the space between the lungs containing the heart, great vessels, etc.) appears normal.\n",
      "*   **Bones:** The bony structures (ribs, clavicles, etc.) are intact.\n",
      "\n",
      "While this is a preliminary assessment, and a definitive diagnosis requires a trained radiologist's interpretation, the image doesn't show any strong indicators of pneumonia.\n",
      "\n"
     ]
    }
   ],
   "source": [
    "base_assistant_message = test_instance_base.chat_v1(messages, dataset[\"test\"][-7][\"image\"])\n",
    "\n",
    "print(f\"Baseline assistant message:{base_assistant_message}\")"
   ]
  },
  {
   "cell_type": "markdown",
   "id": "69009a2c",
   "metadata": {},
   "source": [
    "## Test the fine-tuned model\n"
   ]
  },
  {
   "cell_type": "code",
   "execution_count": 17,
   "id": "1e79de7a",
   "metadata": {},
   "outputs": [
    {
     "name": "stderr",
     "output_type": "stream",
     "text": [
      "Loading checkpoint shards: 100%|██████████████████████████████████████████████████████████████████████| 2/2 [00:32<00:00, 16.50s/it]\n",
      "Some parameters are on the meta device because they were offloaded to the disk.\n"
     ]
    },
    {
     "name": "stdout",
     "output_type": "stream",
     "text": [
      "Model and processor loaded from /Users/georgi/dev/meda/models/medgemma-4b-it-pneumonia-finetuned-merged\n",
      "System Message:You are a medical AI expert analyzing chest X-rays     for pneumonia detection.\n",
      "User Message:Analyze this chest X-ray image for signs of pneumonia     or normal lungs. Do you detect: \n",
      " A: NORMAL\n",
      "B: PNEUMONIA\n",
      "True finding:B: PNEUMONIA\n"
     ]
    }
   ],
   "source": [
    "test_instance_peft = test_medgemma_4b_it_nih_pneumonia_chest_x_ray(\n",
    "    model_id=\"peft\",\n",
    "    model_folder=config_medgemma_4b_it_nih_cxr.model_folder_pneumonia_ft_full,\n",
    "    model_kwargs=config_medgemma_4b_it_nih_cxr.model_kwargs,\n",
    "    max_new_tokens=250\n",
    ")\n",
    "messages = make_prompt_without_image(\n",
    "        system_message=config_medgemma_4b_it_nih_cxr.prompt_template[\"system_message\"],\n",
    "        user_prompt=config_medgemma_4b_it_nih_cxr.prompt_template[\"user_prompt\"])\n",
    "print(f\"System Message:{config_medgemma_4b_it_nih_cxr.prompt_template['system_message']}\")\n",
    "print(f\"User Message:{config_medgemma_4b_it_nih_cxr.prompt_template['user_prompt']}\")\n",
    "print(f\"True finding:{config_medgemma_4b_it_nih_cxr.condition_findings[dataset['test'][-7]['label']]}\")"
   ]
  },
  {
   "cell_type": "code",
   "execution_count": 20,
   "id": "024e18c7",
   "metadata": {},
   "outputs": [
    {
     "name": "stdout",
     "output_type": "stream",
     "text": [
      "Generated Description: \n",
      "B: PNEUMONIA\n",
      "Fine-tuned assistant message:\n",
      "B: PNEUMONIA\n"
     ]
    }
   ],
   "source": [
    "ft_assistant_message = test_instance_peft.chat_v1(messages, dataset[\"test\"][-7][\"image\"])\n",
    "print(f\"Fine-tuned assistant message:{ft_assistant_message}\")"
   ]
  },
  {
   "cell_type": "markdown",
   "id": "b8dd7707",
   "metadata": {},
   "source": [
    "## Test the augmented summary agent "
   ]
  },
  {
   "cell_type": "code",
   "execution_count": 23,
   "id": "97549a40",
   "metadata": {},
   "outputs": [
    {
     "name": "stdout",
     "output_type": "stream",
     "text": [
      "Generated Description: \n",
      "Based on the chest X-ray image, I detect **B: PNEUMONIA**.\n",
      "\n",
      "Here's a detailed explanation of my reasoning:\n",
      "\n",
      "*   **Increased Opacity in the Right Lung:** The right lung appears more opaque (whiter) than the left lung. This increased opacity suggests consolidation, which is a hallmark of pneumonia. Consolidation refers to the filling of the air spaces in the lung with fluid, pus, or other substances.\n",
      "\n",
      "*   **Possible Consolidation:** The increased opacity in the right lung could be due to consolidation, which is a common finding in pneumonia.\n",
      "\n",
      "*   **Clinical Context:** While I cannot access the patient's clinical history, the presence of increased opacity in the right lung raises suspicion for pneumonia.\n",
      "\n",
      "It's important to note that this is a preliminary assessment based on a single image. A definitive diagnosis requires a comprehensive evaluation, including the patient's clinical history, physical examination findings, and potentially additional imaging studies.\n",
      "\n",
      "Augmented-tuned assistant message:\n",
      "B: PNEUMONIA\n"
     ]
    }
   ],
   "source": [
    "augmented_user_prompt = (config_medgemma_4b_it_nih_cxr.prompt_template[\"user_prompt\"]\n",
    "                             + f\"\\nIn your answer, please consider that a fine-tuned model ML model on a pneumonia\"\n",
    "                               f\"\\nchest X-ray dataset does predict the label **{ft_assistant_message}**  in this case. \"\n",
    "                               f\"\\nProvide a detailed explanation for your diagnosis.\")\n",
    "    \n",
    "augmented_messages = make_prompt_without_image(\n",
    "        system_message=config_medgemma_4b_it_nih_cxr.prompt_template[\"system_message\"],\n",
    "        user_prompt=augmented_user_prompt)\n",
    "# augmented_assistant_message = test_instance_base.chat(augmented_messages)\n",
    "augmented_assistant_message = test_instance_base.chat_v1(augmented_messages, dataset[\"test\"][-7][\"image\"])\n",
    "\n",
    "print(f\"Augmented-tuned assistant message:{ft_assistant_message}\")"
   ]
  },
  {
   "cell_type": "code",
   "execution_count": null,
   "id": "102f714b",
   "metadata": {},
   "outputs": [],
   "source": []
  }
 ],
 "metadata": {
  "kernelspec": {
   "display_name": "torchLM",
   "language": "python",
   "name": "torchlm"
  },
  "language_info": {
   "codemirror_mode": {
    "name": "ipython",
    "version": 3
   },
   "file_extension": ".py",
   "mimetype": "text/x-python",
   "name": "python",
   "nbconvert_exporter": "python",
   "pygments_lexer": "ipython3",
   "version": "3.11.13"
  }
 },
 "nbformat": 4,
 "nbformat_minor": 5
}
